{
  "nbformat": 4,
  "nbformat_minor": 0,
  "metadata": {
    "accelerator": "GPU",
    "colab": {
      "name": "transfer_learning_submit.ipynb",
      "provenance": [],
      "collapsed_sections": [],
      "toc_visible": true,
      "include_colab_link": true
    },
    "kernelspec": {
      "display_name": "Python 3",
      "language": "python",
      "name": "python3"
    },
    "language_info": {
      "codemirror_mode": {
        "name": "ipython",
        "version": 3
      },
      "file_extension": ".py",
      "mimetype": "text/x-python",
      "name": "python",
      "nbconvert_exporter": "python",
      "pygments_lexer": "ipython3",
      "version": "3.7.3"
    }
  },
  "cells": [
    {
      "cell_type": "markdown",
      "metadata": {
        "id": "view-in-github",
        "colab_type": "text"
      },
      "source": [
        "<a href=\"https://colab.research.google.com/github/bineeshpc/openvino_project/blob/master/transfer_learning_submit.ipynb\" target=\"_parent\"><img src=\"https://colab.research.google.com/assets/colab-badge.svg\" alt=\"Open In Colab\"/></a>"
      ]
    },
    {
      "cell_type": "markdown",
      "metadata": {
        "colab_type": "text",
        "id": "m7KBpffWzlxH"
      },
      "source": [
        "### Import TensorFlow"
      ]
    },
    {
      "cell_type": "code",
      "metadata": {
        "colab_type": "code",
        "id": "iAve6DCL4JH4",
        "colab": {}
      },
      "source": [
        "import os\n",
        "import pandas as pd\n",
        "from PIL import Image\n",
        "import numpy as np\n",
        "import random\n",
        "\n",
        "import tensorflow as tf\n",
        "\n",
        "from tensorflow.keras import datasets, layers, models\n",
        "import matplotlib.pyplot as plt"
      ],
      "execution_count": null,
      "outputs": []
    },
    {
      "cell_type": "code",
      "metadata": {
        "colab_type": "code",
        "id": "JWoEqyMuXFF4",
        "scrolled": true,
        "colab": {}
      },
      "source": [
        "(train_images, train_labels), (test_images, test_labels) = datasets.cifar10.load_data()\n"
      ],
      "execution_count": null,
      "outputs": []
    },
    {
      "cell_type": "code",
      "metadata": {
        "id": "TW2NZPLlM7fd",
        "colab_type": "code",
        "colab": {}
      },
      "source": [
        "base_model = tf.keras.applications.ResNet50(\n",
        "    weights='imagenet',  # Load weights pre-trained on ImageNet.\n",
        "    input_shape=(32, 32, 3),\n",
        "    include_top=False)  # Do not include the ImageNet classifier at the top.\n",
        "\n",
        "base_model.summary()"
      ],
      "execution_count": null,
      "outputs": []
    },
    {
      "cell_type": "code",
      "metadata": {
        "id": "jt7DRnINM7gR",
        "colab_type": "code",
        "colab": {}
      },
      "source": [
        "base_model.trainable = False"
      ],
      "execution_count": null,
      "outputs": []
    },
    {
      "cell_type": "code",
      "metadata": {
        "id": "yGBBlHG6M7g5",
        "colab_type": "code",
        "colab": {}
      },
      "source": [
        "inputs = tf.keras.Input(shape=(32, 32, 3))\n",
        "# We make sure that the base_model is running in inference mode here,\n",
        "# by passing `training=False`. This is important for fine-tuning, as you will\n",
        "# learn in a few paragraphs.\n",
        "x = base_model(inputs, training=False)\n",
        "# Convert features of shape `base_model.output_shape[1:]` to vectors\n",
        "# x = tf.keras.layers.GlobalAveragePooling2D()(x)\n",
        "# A Dense classifier with a single unit (binary classification)\n",
        "# outputs = tf.keras.layers.Dense(10)(x)\n",
        "x = tf.keras.layers.Flatten()(x)\n",
        "x = tf.keras.layers.Dense(512)(x)\n",
        "x = tf.keras.layers.BatchNormalization()(x)\n",
        "x = tf.keras.layers.Activation('relu')(x)\n",
        "x = tf.keras.layers.Dropout(0.5)(x)\n",
        "x = tf.keras.layers.Dense(256)(x)\n",
        "x = tf.keras.layers.BatchNormalization()(x)\n",
        "x = tf.keras.layers.Activation('relu')(x)\n",
        "x = tf.keras.layers.Dropout(0.5)(x)\n",
        "x = tf.keras.layers.Dense(128)(x)\n",
        "x = tf.keras.layers.BatchNormalization()(x)\n",
        "x = tf.keras.layers.Activation('relu')(x)\n",
        "x = tf.keras.layers.Dropout(0.3)(x)\n",
        "x = tf.keras.layers.Dense(64)(x)\n",
        "x = tf.keras.layers.BatchNormalization()(x)\n",
        "x = tf.keras.layers.Activation('relu')(x)\n",
        "x = tf.keras.layers.Dropout(0.3)(x)\n",
        "outputs = tf.keras.layers.Dense(10, activation='softmax')(x)\n",
        "model = tf.keras.Model(inputs, outputs)\n"
      ],
      "execution_count": null,
      "outputs": []
    },
    {
      "cell_type": "code",
      "metadata": {
        "scrolled": true,
        "id": "js_ZYAOwM7hD",
        "colab_type": "code",
        "colab": {}
      },
      "source": [
        "model.summary()"
      ],
      "execution_count": null,
      "outputs": []
    },
    {
      "cell_type": "code",
      "metadata": {
        "id": "3dZMtIqEM7iV",
        "colab_type": "code",
        "colab": {}
      },
      "source": [
        "model.compile(optimizer='adam',\n",
        "              loss=tf.keras.losses.SparseCategoricalCrossentropy(from_logits=True),\n",
        "              metrics=['accuracy'])\n",
        "\n",
        "my_callbacks = [\n",
        "    tf.keras.callbacks.EarlyStopping(patience=25)\n",
        "]\n",
        "\n",
        "history = model.fit(train_images, train_labels, epochs=100, batch_size=32,\n",
        "                    \n",
        "                    \n",
        "                     validation_data=(test_images, test_labels),\n",
        "                   callbacks=my_callbacks)"
      ],
      "execution_count": null,
      "outputs": []
    },
    {
      "cell_type": "code",
      "metadata": {
        "id": "pTsX4ehqM7i6",
        "colab_type": "code",
        "colab": {}
      },
      "source": [
        "plt.plot(history.history['accuracy'], label='accuracy')\n",
        "plt.plot(history.history['val_accuracy'], label = 'val_accuracy')\n",
        "plt.xlabel('Epoch')\n",
        "plt.ylabel('Accuracy')\n",
        "plt.ylim([0.5, 1])\n",
        "plt.legend(loc='lower right')"
      ],
      "execution_count": null,
      "outputs": []
    },
    {
      "cell_type": "code",
      "metadata": {
        "id": "blkRP5vUM7jx",
        "colab_type": "code",
        "colab": {}
      },
      "source": [
        "test_loss, test_acc = model.evaluate(test_images,  test_labels, verbose=2)"
      ],
      "execution_count": null,
      "outputs": []
    },
    {
      "cell_type": "code",
      "metadata": {
        "id": "uVPlVJV0eRY2",
        "colab_type": "code",
        "colab": {}
      },
      "source": [
        "model_filename = \"transfer_learning.h5\"\n",
        "model.save(model_filename)"
      ],
      "execution_count": null,
      "outputs": []
    },
    {
      "cell_type": "code",
      "metadata": {
        "id": "qRd14OoWM7kK",
        "colab_type": "code",
        "colab": {}
      },
      "source": [
        "print(test_acc)"
      ],
      "execution_count": null,
      "outputs": []
    },
    {
      "cell_type": "code",
      "metadata": {
        "id": "h4o6o07loUDd",
        "colab_type": "code",
        "colab": {
          "base_uri": "https://localhost:8080/",
          "height": 17
        },
        "outputId": "ebd35b0f-2908-4f05-c4db-d49dda9a359a"
      },
      "source": [
        "from google.colab import files\n",
        "files.download(model_filename) "
      ],
      "execution_count": null,
      "outputs": [
        {
          "output_type": "display_data",
          "data": {
            "application/javascript": [
              "\n",
              "    async function download(id, filename, size) {\n",
              "      if (!google.colab.kernel.accessAllowed) {\n",
              "        return;\n",
              "      }\n",
              "      const div = document.createElement('div');\n",
              "      const label = document.createElement('label');\n",
              "      label.textContent = `Downloading \"${filename}\": `;\n",
              "      div.appendChild(label);\n",
              "      const progress = document.createElement('progress');\n",
              "      progress.max = size;\n",
              "      div.appendChild(progress);\n",
              "      document.body.appendChild(div);\n",
              "\n",
              "      const buffers = [];\n",
              "      let downloaded = 0;\n",
              "\n",
              "      const channel = await google.colab.kernel.comms.open(id);\n",
              "      // Send a message to notify the kernel that we're ready.\n",
              "      channel.send({})\n",
              "\n",
              "      for await (const message of channel.messages) {\n",
              "        // Send a message to notify the kernel that we're ready.\n",
              "        channel.send({})\n",
              "        if (message.buffers) {\n",
              "          for (const buffer of message.buffers) {\n",
              "            buffers.push(buffer);\n",
              "            downloaded += buffer.byteLength;\n",
              "            progress.value = downloaded;\n",
              "          }\n",
              "        }\n",
              "      }\n",
              "      const blob = new Blob(buffers, {type: 'application/binary'});\n",
              "      const a = document.createElement('a');\n",
              "      a.href = window.URL.createObjectURL(blob);\n",
              "      a.download = filename;\n",
              "      div.appendChild(a);\n",
              "      a.click();\n",
              "      div.remove();\n",
              "    }\n",
              "  "
            ],
            "text/plain": [
              "<IPython.core.display.Javascript object>"
            ]
          },
          "metadata": {
            "tags": []
          }
        },
        {
          "output_type": "display_data",
          "data": {
            "application/javascript": [
              "download(\"download_effac5b0-7487-4082-947f-1bd7285ee73d\", \"transfer_learning.h5\", 109447824)"
            ],
            "text/plain": [
              "<IPython.core.display.Javascript object>"
            ]
          },
          "metadata": {
            "tags": []
          }
        }
      ]
    },
    {
      "cell_type": "code",
      "metadata": {
        "id": "MTn9muWzqK-W",
        "colab_type": "code",
        "colab": {
          "base_uri": "https://localhost:8080/",
          "height": 392
        },
        "outputId": "cb588f93-a406-41d6-841d-56fbc1055f13"
      },
      "source": [
        "# Unfreeze the base model\n",
        "base_model.trainable = True\n",
        "\n",
        "model.compile(optimizer=tf.keras.optimizers.Adam(1e-5),\n",
        "              loss=tf.keras.losses.SparseCategoricalCrossentropy(from_logits=True),\n",
        "              metrics=['accuracy'])\n",
        "\n",
        "my_callbacks = [\n",
        "    tf.keras.callbacks.EarlyStopping(patience=2)\n",
        "]\n",
        "\n",
        "history = model.fit(train_images, train_labels, epochs=10, batch_size=32,\n",
        "                    \n",
        "                    \n",
        "                     validation_data=(test_images, test_labels),\n",
        "                   callbacks=my_callbacks)"
      ],
      "execution_count": 17,
      "outputs": [
        {
          "output_type": "stream",
          "text": [
            "Epoch 1/10\n",
            "1563/1563 [==============================] - 62s 40ms/step - loss: 1.8115 - accuracy: 0.6475 - val_loss: 1.8265 - val_accuracy: 0.6332\n",
            "Epoch 2/10\n",
            "1563/1563 [==============================] - 62s 40ms/step - loss: 1.7960 - accuracy: 0.6636 - val_loss: 1.7813 - val_accuracy: 0.6782\n",
            "Epoch 3/10\n",
            "1563/1563 [==============================] - 62s 40ms/step - loss: 1.7802 - accuracy: 0.6797 - val_loss: 1.7700 - val_accuracy: 0.6900\n",
            "Epoch 4/10\n",
            "1563/1563 [==============================] - 62s 40ms/step - loss: 1.7579 - accuracy: 0.7018 - val_loss: 1.7597 - val_accuracy: 0.6996\n",
            "Epoch 5/10\n",
            "1563/1563 [==============================] - 62s 40ms/step - loss: 1.7456 - accuracy: 0.7142 - val_loss: 1.7426 - val_accuracy: 0.7170\n",
            "Epoch 6/10\n",
            "1563/1563 [==============================] - 62s 40ms/step - loss: 1.7352 - accuracy: 0.7250 - val_loss: 1.7445 - val_accuracy: 0.7157\n",
            "Epoch 7/10\n",
            "1563/1563 [==============================] - 62s 40ms/step - loss: 1.7254 - accuracy: 0.7348 - val_loss: 1.7234 - val_accuracy: 0.7364\n",
            "Epoch 8/10\n",
            "1563/1563 [==============================] - 62s 39ms/step - loss: 1.7147 - accuracy: 0.7456 - val_loss: 1.7549 - val_accuracy: 0.7053\n",
            "Epoch 9/10\n",
            "1563/1563 [==============================] - 63s 40ms/step - loss: 1.7086 - accuracy: 0.7513 - val_loss: 1.7086 - val_accuracy: 0.7521\n",
            "Epoch 10/10\n",
            "1563/1563 [==============================] - 62s 40ms/step - loss: 1.6988 - accuracy: 0.7612 - val_loss: 1.7129 - val_accuracy: 0.7471\n"
          ],
          "name": "stdout"
        }
      ]
    },
    {
      "cell_type": "code",
      "metadata": {
        "id": "zqIdck0Qt1zM",
        "colab_type": "code",
        "colab": {
          "base_uri": "https://localhost:8080/",
          "height": 321
        },
        "outputId": "ca81ef04-d7bf-43d5-c0db-94b47e49d938"
      },
      "source": [
        "# Unfreeze the base model\n",
        "base_model.trainable = False\n",
        "\n",
        "model.compile(optimizer=tf.keras.optimizers.Adam(1e-5),\n",
        "              loss=tf.keras.losses.SparseCategoricalCrossentropy(from_logits=True),\n",
        "              metrics=['accuracy'])\n",
        "\n",
        "my_callbacks = [\n",
        "    tf.keras.callbacks.EarlyStopping(patience=2)\n",
        "]\n",
        "\n",
        "history = model.fit(train_images, train_labels, epochs=10, batch_size=32,\n",
        "                    \n",
        "                    \n",
        "                     validation_data=(test_images, test_labels),\n",
        "                   callbacks=my_callbacks)"
      ],
      "execution_count": 18,
      "outputs": [
        {
          "output_type": "stream",
          "text": [
            "Epoch 1/10\n",
            "1563/1563 [==============================] - 21s 13ms/step - loss: 1.6922 - accuracy: 0.7684 - val_loss: 1.7053 - val_accuracy: 0.7550\n",
            "Epoch 2/10\n",
            "1563/1563 [==============================] - 20s 13ms/step - loss: 1.6901 - accuracy: 0.7702 - val_loss: 1.7060 - val_accuracy: 0.7540\n",
            "Epoch 3/10\n",
            "1563/1563 [==============================] - 20s 13ms/step - loss: 1.6929 - accuracy: 0.7673 - val_loss: 1.7049 - val_accuracy: 0.7558\n",
            "Epoch 4/10\n",
            "1563/1563 [==============================] - 20s 13ms/step - loss: 1.6927 - accuracy: 0.7673 - val_loss: 1.7056 - val_accuracy: 0.7546\n",
            "Epoch 5/10\n",
            "1563/1563 [==============================] - 20s 13ms/step - loss: 1.6890 - accuracy: 0.7718 - val_loss: 1.7039 - val_accuracy: 0.7566\n",
            "Epoch 6/10\n",
            "1563/1563 [==============================] - 20s 13ms/step - loss: 1.6903 - accuracy: 0.7703 - val_loss: 1.7037 - val_accuracy: 0.7565\n",
            "Epoch 7/10\n",
            "1563/1563 [==============================] - 20s 13ms/step - loss: 1.6881 - accuracy: 0.7723 - val_loss: 1.7038 - val_accuracy: 0.7559\n",
            "Epoch 8/10\n",
            "1563/1563 [==============================] - 20s 13ms/step - loss: 1.6890 - accuracy: 0.7713 - val_loss: 1.7037 - val_accuracy: 0.7564\n"
          ],
          "name": "stdout"
        }
      ]
    },
    {
      "cell_type": "code",
      "metadata": {
        "id": "o9ImXduvuyen",
        "colab_type": "code",
        "colab": {
          "base_uri": "https://localhost:8080/",
          "height": 392
        },
        "outputId": "d53d175c-dfaf-4d1f-b9b8-b6f3635ffc16"
      },
      "source": [
        "\n",
        "model.compile(optimizer=tf.keras.optimizers.Adam(1e-4),\n",
        "              loss=tf.keras.losses.SparseCategoricalCrossentropy(from_logits=True),\n",
        "              metrics=['accuracy'])\n",
        "\n",
        "my_callbacks = [\n",
        "    tf.keras.callbacks.EarlyStopping(patience=2)\n",
        "]\n",
        "\n",
        "history = model.fit(train_images, train_labels, epochs=10, batch_size=32,\n",
        "                    \n",
        "                    \n",
        "                     validation_data=(test_images, test_labels),\n",
        "                   callbacks=my_callbacks)"
      ],
      "execution_count": 19,
      "outputs": [
        {
          "output_type": "stream",
          "text": [
            "Epoch 1/10\n",
            "1563/1563 [==============================] - 21s 13ms/step - loss: 1.6883 - accuracy: 0.7723 - val_loss: 1.7008 - val_accuracy: 0.7596\n",
            "Epoch 2/10\n",
            "1563/1563 [==============================] - 20s 13ms/step - loss: 1.6847 - accuracy: 0.7756 - val_loss: 1.6983 - val_accuracy: 0.7614\n",
            "Epoch 3/10\n",
            "1563/1563 [==============================] - 20s 13ms/step - loss: 1.6841 - accuracy: 0.7765 - val_loss: 1.6959 - val_accuracy: 0.7644\n",
            "Epoch 4/10\n",
            "1563/1563 [==============================] - 20s 13ms/step - loss: 1.6814 - accuracy: 0.7786 - val_loss: 1.6940 - val_accuracy: 0.7670\n",
            "Epoch 5/10\n",
            "1563/1563 [==============================] - 20s 13ms/step - loss: 1.6817 - accuracy: 0.7789 - val_loss: 1.6934 - val_accuracy: 0.7672\n",
            "Epoch 6/10\n",
            "1563/1563 [==============================] - 20s 13ms/step - loss: 1.6791 - accuracy: 0.7814 - val_loss: 1.6925 - val_accuracy: 0.7677\n",
            "Epoch 7/10\n",
            "1563/1563 [==============================] - 20s 13ms/step - loss: 1.6787 - accuracy: 0.7818 - val_loss: 1.6915 - val_accuracy: 0.7688\n",
            "Epoch 8/10\n",
            "1563/1563 [==============================] - 20s 13ms/step - loss: 1.6784 - accuracy: 0.7822 - val_loss: 1.6914 - val_accuracy: 0.7696\n",
            "Epoch 9/10\n",
            "1563/1563 [==============================] - 20s 13ms/step - loss: 1.6770 - accuracy: 0.7834 - val_loss: 1.6906 - val_accuracy: 0.7695\n",
            "Epoch 10/10\n",
            "1563/1563 [==============================] - 20s 13ms/step - loss: 1.6749 - accuracy: 0.7857 - val_loss: 1.6905 - val_accuracy: 0.7696\n"
          ],
          "name": "stdout"
        }
      ]
    },
    {
      "cell_type": "code",
      "metadata": {
        "id": "-eDD1_SEu_Nw",
        "colab_type": "code",
        "colab": {
          "base_uri": "https://localhost:8080/",
          "height": 499
        },
        "outputId": "69ff616e-09bd-40aa-b954-808d86cae8d9"
      },
      "source": [
        "\n",
        "model.compile(optimizer='adam',\n",
        "              loss=tf.keras.losses.SparseCategoricalCrossentropy(from_logits=True),\n",
        "              metrics=['accuracy'])\n",
        "\n",
        "my_callbacks = [\n",
        "    tf.keras.callbacks.EarlyStopping(patience=5)\n",
        "]\n",
        "\n",
        "history = model.fit(train_images, train_labels, epochs=50, batch_size=32,\n",
        "                    \n",
        "                    \n",
        "                     validation_data=(test_images, test_labels),\n",
        "                   callbacks=my_callbacks)"
      ],
      "execution_count": 20,
      "outputs": [
        {
          "output_type": "stream",
          "text": [
            "Epoch 1/50\n",
            "1563/1563 [==============================] - 21s 13ms/step - loss: 1.6781 - accuracy: 0.7822 - val_loss: 1.6896 - val_accuracy: 0.7705\n",
            "Epoch 2/50\n",
            "1563/1563 [==============================] - 20s 13ms/step - loss: 1.6762 - accuracy: 0.7842 - val_loss: 1.6872 - val_accuracy: 0.7728\n",
            "Epoch 3/50\n",
            "1563/1563 [==============================] - 20s 13ms/step - loss: 1.6729 - accuracy: 0.7875 - val_loss: 1.6850 - val_accuracy: 0.7754\n",
            "Epoch 4/50\n",
            "1563/1563 [==============================] - 20s 13ms/step - loss: 1.6706 - accuracy: 0.7897 - val_loss: 1.6848 - val_accuracy: 0.7749\n",
            "Epoch 5/50\n",
            "1563/1563 [==============================] - 20s 13ms/step - loss: 1.6684 - accuracy: 0.7924 - val_loss: 1.6849 - val_accuracy: 0.7750\n",
            "Epoch 6/50\n",
            "1563/1563 [==============================] - 20s 13ms/step - loss: 1.6671 - accuracy: 0.7937 - val_loss: 1.6826 - val_accuracy: 0.7779\n",
            "Epoch 7/50\n",
            "1563/1563 [==============================] - 20s 13ms/step - loss: 1.6658 - accuracy: 0.7942 - val_loss: 1.6840 - val_accuracy: 0.7761\n",
            "Epoch 8/50\n",
            "1563/1563 [==============================] - 20s 13ms/step - loss: 1.6656 - accuracy: 0.7952 - val_loss: 1.6821 - val_accuracy: 0.7790\n",
            "Epoch 9/50\n",
            "1563/1563 [==============================] - 20s 13ms/step - loss: 1.6639 - accuracy: 0.7970 - val_loss: 1.6836 - val_accuracy: 0.7763\n",
            "Epoch 10/50\n",
            "1563/1563 [==============================] - 20s 13ms/step - loss: 1.6622 - accuracy: 0.7982 - val_loss: 1.6838 - val_accuracy: 0.7764\n",
            "Epoch 11/50\n",
            "1563/1563 [==============================] - 20s 13ms/step - loss: 1.6621 - accuracy: 0.7988 - val_loss: 1.6824 - val_accuracy: 0.7782\n",
            "Epoch 12/50\n",
            "1563/1563 [==============================] - 20s 13ms/step - loss: 1.6618 - accuracy: 0.7985 - val_loss: 1.6844 - val_accuracy: 0.7753\n",
            "Epoch 13/50\n",
            "1563/1563 [==============================] - 20s 13ms/step - loss: 1.6605 - accuracy: 0.7996 - val_loss: 1.6832 - val_accuracy: 0.7772\n"
          ],
          "name": "stdout"
        }
      ]
    },
    {
      "cell_type": "code",
      "metadata": {
        "id": "1TrAE26pwBoV",
        "colab_type": "code",
        "colab": {
          "base_uri": "https://localhost:8080/",
          "height": 70
        },
        "outputId": "4ce60f75-3c9b-49a1-a4d1-04a127203f04"
      },
      "source": [
        "model_filename = \"transfer_learning1.h5\"\n",
        "model.save(model_filename)\n",
        "test_loss, test_acc = model.evaluate(test_images,  test_labels, verbose=2)\n",
        "print(test_acc)\n",
        "from google.colab import files\n",
        "files.download(model_filename)"
      ],
      "execution_count": 21,
      "outputs": [
        {
          "output_type": "stream",
          "text": [
            "313/313 - 3s - loss: 1.6832 - accuracy: 0.7772\n",
            "0.7771999835968018\n"
          ],
          "name": "stdout"
        },
        {
          "output_type": "display_data",
          "data": {
            "application/javascript": [
              "\n",
              "    async function download(id, filename, size) {\n",
              "      if (!google.colab.kernel.accessAllowed) {\n",
              "        return;\n",
              "      }\n",
              "      const div = document.createElement('div');\n",
              "      const label = document.createElement('label');\n",
              "      label.textContent = `Downloading \"${filename}\": `;\n",
              "      div.appendChild(label);\n",
              "      const progress = document.createElement('progress');\n",
              "      progress.max = size;\n",
              "      div.appendChild(progress);\n",
              "      document.body.appendChild(div);\n",
              "\n",
              "      const buffers = [];\n",
              "      let downloaded = 0;\n",
              "\n",
              "      const channel = await google.colab.kernel.comms.open(id);\n",
              "      // Send a message to notify the kernel that we're ready.\n",
              "      channel.send({})\n",
              "\n",
              "      for await (const message of channel.messages) {\n",
              "        // Send a message to notify the kernel that we're ready.\n",
              "        channel.send({})\n",
              "        if (message.buffers) {\n",
              "          for (const buffer of message.buffers) {\n",
              "            buffers.push(buffer);\n",
              "            downloaded += buffer.byteLength;\n",
              "            progress.value = downloaded;\n",
              "          }\n",
              "        }\n",
              "      }\n",
              "      const blob = new Blob(buffers, {type: 'application/binary'});\n",
              "      const a = document.createElement('a');\n",
              "      a.href = window.URL.createObjectURL(blob);\n",
              "      a.download = filename;\n",
              "      div.appendChild(a);\n",
              "      a.click();\n",
              "      div.remove();\n",
              "    }\n",
              "  "
            ],
            "text/plain": [
              "<IPython.core.display.Javascript object>"
            ]
          },
          "metadata": {
            "tags": []
          }
        },
        {
          "output_type": "display_data",
          "data": {
            "application/javascript": [
              "download(\"download_0a5e753e-161b-4905-babd-094a63180766\", \"transfer_learning1.h5\", 109447824)"
            ],
            "text/plain": [
              "<IPython.core.display.Javascript object>"
            ]
          },
          "metadata": {
            "tags": []
          }
        }
      ]
    }
  ]
}